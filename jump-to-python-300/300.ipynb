{
 "cells": [
  {
   "cell_type": "code",
   "execution_count": 12,
   "id": "5567cb08-e88f-426b-b972-bb536fa352ab",
   "metadata": {},
   "outputs": [
    {
     "name": "stdout",
     "output_type": "stream",
     "text": [
      "Hello World\n"
     ]
    }
   ],
   "source": [
    "# 001\n",
    "print(\"Hello World\")"
   ]
  },
  {
   "cell_type": "code",
   "execution_count": 13,
   "id": "bdaf5d54-221e-473b-b564-8f55f05861ce",
   "metadata": {},
   "outputs": [
    {
     "name": "stdout",
     "output_type": "stream",
     "text": [
      "Mary's cosmetics\n"
     ]
    }
   ],
   "source": [
    "# 002\n",
    "print(\"Mary's cosmetics\")"
   ]
  },
  {
   "cell_type": "code",
   "execution_count": 14,
   "id": "5ff765bb-15de-4084-84b9-0b19dd2f2fcd",
   "metadata": {},
   "outputs": [
    {
     "name": "stdout",
     "output_type": "stream",
     "text": [
      "신씨가 소리질렀다. \"도둑이야\".\n"
     ]
    }
   ],
   "source": [
    "# 003\n",
    "print('신씨가 소리질렀다. \"도둑이야\".')"
   ]
  },
  {
   "cell_type": "code",
   "execution_count": 16,
   "id": "0906dd31-0d12-4346-b3f9-224247006f5f",
   "metadata": {},
   "outputs": [
    {
     "name": "stdout",
     "output_type": "stream",
     "text": [
      "C:\\Windows\n"
     ]
    }
   ],
   "source": [
    "# 004\n",
    "print(\"C:\\Windows\")"
   ]
  },
  {
   "cell_type": "markdown",
   "id": "5857ad71-dd1e-47e5-8a23-0082761a480d",
   "metadata": {},
   "source": [
    "### 005.문자열 이스케이프 시퀀스\n",
    "\n",
    "print(\"안녕하세요. \\n만나서\\t\\t반갑습니다.\")\n",
    "\n",
    "- `\\n` 줄바꿈\n",
    "- `\\t` 탭\n",
    "출력결과는 아래와 같을 것이다.\n",
    "\n",
    "```\n",
    "안녕하세요.\n",
    "만나서        반갑습니다.\n",
    "```"
   ]
  },
  {
   "cell_type": "code",
   "execution_count": 17,
   "id": "7d05720e-5f0a-44af-a62d-2cfdd6df5e1f",
   "metadata": {},
   "outputs": [
    {
     "name": "stdout",
     "output_type": "stream",
     "text": [
      "안녕하세요. \n",
      "만나서\t\t반갑습니다.\n"
     ]
    }
   ],
   "source": [
    "# 005\n",
    "print(\"안녕하세요. \\n만나서\\t\\t반갑습니다.\")"
   ]
  },
  {
   "cell_type": "code",
   "execution_count": 144,
   "id": "ff2d80c8-03b5-42b7-ab74-114e7b4af35e",
   "metadata": {},
   "outputs": [
    {
     "name": "stdout",
     "output_type": "stream",
     "text": [
      "오늘은 일요일\n"
     ]
    }
   ],
   "source": [
    "# 006\n",
    "# print(\"오늘은\", \"일요일\") 출력결과 예상\n",
    "# => 오늘은 일요일\n",
    "\n",
    "print(\"오늘은\", \"일요일\")"
   ]
  },
  {
   "cell_type": "code",
   "execution_count": 21,
   "id": "2e309ed0-a66e-4a5f-9761-3ade8f4676ac",
   "metadata": {},
   "outputs": [
    {
     "name": "stdout",
     "output_type": "stream",
     "text": [
      "naver;kakao;sk;samsung\n"
     ]
    }
   ],
   "source": [
    "# 007\n",
    "print(\"naver;kakao;sk;samsung\")"
   ]
  },
  {
   "cell_type": "markdown",
   "id": "973e73f7-dbc5-485b-9d75-d616052eef4b",
   "metadata": {},
   "source": [
    "## 007.print() 함수의 sep 인자\n",
    "- print 함수의 sep 인자로 \";\"를 입력하면 출력되는 값들 사이에 한 칸이 공백대신 세미 콜론이 출력된다.\n",
    "- print 함수의 sep 기본인자는 \" \"(공백_스페이스)로 생략되어 있다."
   ]
  },
  {
   "cell_type": "code",
   "execution_count": 22,
   "id": "3dcf62e2-e3b0-4cff-ab6a-fbc588a41316",
   "metadata": {},
   "outputs": [
    {
     "name": "stdout",
     "output_type": "stream",
     "text": [
      "naver;kakao;sk;samsung\n"
     ]
    }
   ],
   "source": [
    "# 007-1\n",
    "print(\"naver\", \"kakao\", \"sk\", \"samsung\", sep=\";\")"
   ]
  },
  {
   "cell_type": "code",
   "execution_count": 23,
   "id": "c70efe73-64ae-4f56-8f53-4274100e8d69",
   "metadata": {},
   "outputs": [
    {
     "name": "stdout",
     "output_type": "stream",
     "text": [
      "naver kakao sk samsung\n"
     ]
    }
   ],
   "source": [
    "# 007-2\n",
    "print(\"naver\", \"kakao\", \"sk\", \"samsung\", sep=\" \")"
   ]
  },
  {
   "cell_type": "code",
   "execution_count": 24,
   "id": "9ce92af0-f3fd-402a-ac9c-583914214b3e",
   "metadata": {},
   "outputs": [
    {
     "name": "stdout",
     "output_type": "stream",
     "text": [
      "naver:kakao:sk:samsung\n"
     ]
    }
   ],
   "source": [
    "# 007-3\n",
    "print(\"naver\", \"kakao\", \"sk\", \"samsung\", sep=\":\")"
   ]
  },
  {
   "cell_type": "code",
   "execution_count": 25,
   "id": "c3f67237-e48f-48e1-968d-40f015be0ff8",
   "metadata": {},
   "outputs": [
    {
     "name": "stdout",
     "output_type": "stream",
     "text": [
      "naverkakaosksamsung\n"
     ]
    }
   ],
   "source": [
    "# 007-4\n",
    "print(\"naver\", \"kakao\", \"sk\", \"samsung\", sep=\"\")"
   ]
  },
  {
   "cell_type": "code",
   "execution_count": 26,
   "id": "09afd2dc-d5ca-49a2-8bcc-ad8e3df876ec",
   "metadata": {},
   "outputs": [
    {
     "name": "stdout",
     "output_type": "stream",
     "text": [
      "naver/kakao/sk/samsung\n"
     ]
    }
   ],
   "source": [
    "# 008\n",
    "print(\"naver\", \"kakao\", \"sk\", \"samsung\", sep=\"/\")"
   ]
  },
  {
   "cell_type": "code",
   "execution_count": 27,
   "id": "8718e5bf-749b-4003-83ee-8b0ca6bc0b04",
   "metadata": {},
   "outputs": [
    {
     "name": "stdout",
     "output_type": "stream",
     "text": [
      "firstsecond\n"
     ]
    }
   ],
   "source": [
    "# 009\n",
    "print(\"first\", end=\"\")\n",
    "print(\"second\")"
   ]
  },
  {
   "cell_type": "code",
   "execution_count": 28,
   "id": "bb75cb64-662c-42da-a7c2-001b19ccba33",
   "metadata": {},
   "outputs": [
    {
     "name": "stdout",
     "output_type": "stream",
     "text": [
      "1.6666666666666667\n"
     ]
    }
   ],
   "source": [
    "# 010\n",
    "print(5 / 3)"
   ]
  },
  {
   "cell_type": "code",
   "execution_count": 31,
   "id": "eb14eeda-d2f4-4f6e-bfd5-0d86ffea023e",
   "metadata": {},
   "outputs": [
    {
     "name": "stdout",
     "output_type": "stream",
     "text": [
      "500000\n"
     ]
    }
   ],
   "source": [
    "# 011\n",
    "samsung_elec = 50000\n",
    "total_eval_amount = samsung_elec * 10\n",
    "print(total_eval_amount)"
   ]
  },
  {
   "cell_type": "code",
   "execution_count": 35,
   "id": "622fd4ca-f90d-40a5-924c-6acfff9c07b8",
   "metadata": {},
   "outputs": [],
   "source": [
    "# 012\n",
    "market_cap = 298000000000000\n",
    "current_stock_price = 50000\n",
    "PER = 15.79\n",
    "\n",
    "# PER은 Price-to-Earnings Ratio의 약자로 주식의 현재가격을 주당 순이익으로 나눈 비율.\n",
    "# 주가 대비 기업의 수익성을 측정하는 지표로 사용, 투자자들이 주식의 상대적인 가치를 평가할 때 도움을 준다."
   ]
  },
  {
   "cell_type": "code",
   "execution_count": 34,
   "id": "6e0382f0-d9ed-4c43-8364-da58251feee1",
   "metadata": {},
   "outputs": [
    {
     "name": "stdout",
     "output_type": "stream",
     "text": [
      "298000000000000 <class 'int'>\n",
      "50000 <class 'int'>\n",
      "15.79 <class 'float'>\n"
     ]
    }
   ],
   "source": [
    "print(market_cap, type(market_cap))\n",
    "print(current_stock_price, type(current_stock_price))\n",
    "print(PER, type(PER))"
   ]
  },
  {
   "cell_type": "code",
   "execution_count": 41,
   "id": "69974c7f-17b0-4b51-bff0-2eba4a48c9b9",
   "metadata": {},
   "outputs": [
    {
     "name": "stdout",
     "output_type": "stream",
     "text": [
      "hello! python\n",
      "hello! python\n"
     ]
    }
   ],
   "source": [
    "# 013\n",
    "s = \"hello\"\n",
    "t = \"python\"\n",
    "\n",
    "print(s + \"! \" + t)\n",
    "print(s+\"!\", t)"
   ]
  },
  {
   "cell_type": "code",
   "execution_count": 42,
   "id": "3fd2ce06-e164-4d97-9f12-0c7605bca3a8",
   "metadata": {},
   "outputs": [
    {
     "data": {
      "text/plain": [
       "8"
      ]
     },
     "execution_count": 42,
     "metadata": {},
     "output_type": "execute_result"
    }
   ],
   "source": [
    "# 014\n",
    "2 + 2 * 3\n",
    "# return value 8로 예상"
   ]
  },
  {
   "cell_type": "code",
   "execution_count": 43,
   "id": "884c1916-419a-469c-bbfb-4df69be2d606",
   "metadata": {},
   "outputs": [
    {
     "data": {
      "text/plain": [
       "str"
      ]
     },
     "execution_count": 43,
     "metadata": {},
     "output_type": "execute_result"
    }
   ],
   "source": [
    "# 015\n",
    "a = \"132\"\n",
    "# type(a) => str\n",
    "type(a)"
   ]
  },
  {
   "cell_type": "code",
   "execution_count": 44,
   "id": "efb5c4a4-78f1-49bf-9484-318fec5ff5f0",
   "metadata": {},
   "outputs": [
    {
     "name": "stdout",
     "output_type": "stream",
     "text": [
      "720 <class 'int'>\n"
     ]
    }
   ],
   "source": [
    "# 016\n",
    "num_str = \"720\"\n",
    "print(int(num_str), type(int(num_str)))"
   ]
  },
  {
   "cell_type": "code",
   "execution_count": 45,
   "id": "05c733f2-8fa0-4f62-a3ba-7472a526e4dc",
   "metadata": {},
   "outputs": [
    {
     "name": "stdout",
     "output_type": "stream",
     "text": [
      "100 <class 'str'>\n"
     ]
    }
   ],
   "source": [
    "# 017\n",
    "num = 100\n",
    "print(str(num), type(str(num)))"
   ]
  },
  {
   "cell_type": "code",
   "execution_count": 46,
   "id": "c8e068fa-9ff8-4d46-8f47-f2e944e35da7",
   "metadata": {},
   "outputs": [
    {
     "name": "stdout",
     "output_type": "stream",
     "text": [
      "15.79 <class 'float'>\n"
     ]
    }
   ],
   "source": [
    "# 018\n",
    "print(float(\"15.79\"), type(float(\"15.79\")))"
   ]
  },
  {
   "cell_type": "code",
   "execution_count": 48,
   "id": "76de53de-faed-46df-adb0-2e76025c0411",
   "metadata": {},
   "outputs": [
    {
     "name": "stdout",
     "output_type": "stream",
     "text": [
      "2019 2018 2017\n"
     ]
    }
   ],
   "source": [
    "# 019\n",
    "year = \"2020\"\n",
    "int(year)\n",
    "print(int(year) - 1, int(year) - 2, int(year) -3)"
   ]
  },
  {
   "cell_type": "code",
   "execution_count": 49,
   "id": "5eed645f-3bb5-4bfa-8c3e-c7ab57232027",
   "metadata": {},
   "outputs": [
    {
     "name": "stdout",
     "output_type": "stream",
     "text": [
      "1749024\n"
     ]
    }
   ],
   "source": [
    "# 020\n",
    "aircon_month_price = 48584\n",
    "month = 36\n",
    "total_price = aircon_month_price * month\n",
    "print(total_price)"
   ]
  },
  {
   "cell_type": "code",
   "execution_count": 50,
   "id": "066e08e5-655b-4584-8f22-980ca3edc510",
   "metadata": {},
   "outputs": [
    {
     "name": "stdout",
     "output_type": "stream",
     "text": [
      "p t\n"
     ]
    }
   ],
   "source": [
    "# 021\n",
    "letters = 'python'\n",
    "print(letters[0], letters[2])"
   ]
  },
  {
   "cell_type": "code",
   "execution_count": 53,
   "id": "d5711c8d-6079-4144-9c22-96bce1c5c8f9",
   "metadata": {},
   "outputs": [
    {
     "data": {
      "text/plain": [
       "'2210'"
      ]
     },
     "execution_count": 53,
     "metadata": {},
     "output_type": "execute_result"
    }
   ],
   "source": [
    "# 022\n",
    "license_plate = \"24가 2210\"\n",
    "license_plate[4:]"
   ]
  },
  {
   "cell_type": "code",
   "execution_count": 76,
   "id": "696cea34-690b-4252-b59e-29a2658d3016",
   "metadata": {},
   "outputs": [
    {
     "data": {
      "text/plain": [
       "'2210'"
      ]
     },
     "execution_count": 76,
     "metadata": {},
     "output_type": "execute_result"
    }
   ],
   "source": [
    "license_plate[-4:]"
   ]
  },
  {
   "cell_type": "markdown",
   "id": "a06d9210-6db1-48cc-88f6-d3ff98ec0c2d",
   "metadata": {},
   "source": [
    "## 022. 문자열 슬라이싱\n",
    "문자열에서 여러 글자를 가져오는 것을 슬라이싱이라고 한다.\n",
    "\n",
    "`String[start:stop:step]`\n",
    "- `start` : 슬라이싱을 시작할 인덱스로 생략하면 0으로 간주한다. 해당 인덱스의 문자가 결과에 포함된다.\n",
    "- `stop` : 슬라이싱을 끝낼 인덱스로 생략하면 문자열의 끝을 의미한다. 해당 인덱스 전(stop -1)까지의 문자가 결과에 포함된다.\n",
    "- `step` : 간격을 타나낸다. step에 들어가는 정수만큼 건너뛰면서 슬라이싱하는 것을 의미한다. 선택사항이기 때문에 생략해도 괜찮다.\n",
    "- 슬라이싱 할 범위에 문자열이 없으면 '' 빈 문자열을 반환한다.\n",
    "- 인덱스에 **음수**를 넣으면 **문자열의 끝에서부터 역으로 인덱싱 혹은 슬라이싱**함을 의미한다.\n",
    "    - `start` 0은 따로 의미가 있기 때문에 음수로 할 경우 -1부터 카운팅되는 점을 유의\n",
    "\n",
    "||H|e|l|l|o|,||W|o|r|l|d|\n",
    "|---|---|---|---|---|---|---|---|---|---|---|---|---|\n",
    "|start +|0|1|2|3|4|5|6|7|8|9|10|11|\n",
    "|start -|-12|-11|-10|-9|-8|-7|-6|-5|-4|-3|-2|-1|\n",
    "|stop +|0|1|2|3|4|5|6|7|8|9|10|11|\n",
    "|stop - |-12|-11|-10|-9|-8|-7|-6|-5|-4|-3|-2|-1|"
   ]
  },
  {
   "cell_type": "code",
   "execution_count": 109,
   "id": "923fd06d-5eaf-49be-beb8-65a0ef9f67b4",
   "metadata": {},
   "outputs": [
    {
     "data": {
      "text/plain": [
       "'llo, Worl'"
      ]
     },
     "execution_count": 109,
     "metadata": {},
     "output_type": "execute_result"
    }
   ],
   "source": [
    "# 022-13\n",
    "text = \"Hello, World\"\n",
    "\n",
    "text[-10:11]"
   ]
  },
  {
   "cell_type": "code",
   "execution_count": 110,
   "id": "abe0d6d1-487e-49cb-9b7a-28c7480f4f92",
   "metadata": {},
   "outputs": [
    {
     "data": {
      "text/plain": [
       "'Hello, Worl'"
      ]
     },
     "execution_count": 110,
     "metadata": {},
     "output_type": "execute_result"
    }
   ],
   "source": [
    "text[0:-1]"
   ]
  },
  {
   "cell_type": "code",
   "execution_count": 97,
   "id": "56b855c9-3008-4e0d-b69e-6054963468f1",
   "metadata": {},
   "outputs": [
    {
     "data": {
      "text/plain": [
       "'ld'"
      ]
     },
     "execution_count": 97,
     "metadata": {},
     "output_type": "execute_result"
    }
   ],
   "source": [
    "text[-2:]"
   ]
  },
  {
   "cell_type": "code",
   "execution_count": 104,
   "id": "ad3677bd-bb59-449c-a737-0ba045889122",
   "metadata": {},
   "outputs": [
    {
     "data": {
      "text/plain": [
       "'Hello, Wor'"
      ]
     },
     "execution_count": 104,
     "metadata": {},
     "output_type": "execute_result"
    }
   ],
   "source": [
    "text[:-2]"
   ]
  },
  {
   "cell_type": "code",
   "execution_count": 99,
   "id": "322c0430-e3bb-47be-a78e-c68243551753",
   "metadata": {},
   "outputs": [
    {
     "data": {
      "text/plain": [
       "'dlroW ,olleH'"
      ]
     },
     "execution_count": 99,
     "metadata": {},
     "output_type": "execute_result"
    }
   ],
   "source": [
    "text[::-1]"
   ]
  },
  {
   "cell_type": "code",
   "execution_count": 102,
   "id": "a0838a42-abae-4386-a320-714a0e4c7f88",
   "metadata": {},
   "outputs": [
    {
     "data": {
      "text/plain": [
       "'lroW ,o'"
      ]
     },
     "execution_count": 102,
     "metadata": {},
     "output_type": "execute_result"
    }
   ],
   "source": [
    "text[-2:-9:-1]"
   ]
  },
  {
   "cell_type": "code",
   "execution_count": 111,
   "id": "af4e5fac-6274-48b1-b34b-13816660e44f",
   "metadata": {},
   "outputs": [
    {
     "data": {
      "text/plain": [
       "'홀홀홀'"
      ]
     },
     "execution_count": 111,
     "metadata": {},
     "output_type": "execute_result"
    }
   ],
   "source": [
    "# 023\n",
    "string = \"홀짝홀짝홀짝\"\n",
    "string[::2]"
   ]
  },
  {
   "cell_type": "code",
   "execution_count": 112,
   "id": "c77c967d-7faa-4023-8e2a-d0de7e128fd2",
   "metadata": {},
   "outputs": [
    {
     "data": {
      "text/plain": [
       "'NOHTYP'"
      ]
     },
     "execution_count": 112,
     "metadata": {},
     "output_type": "execute_result"
    }
   ],
   "source": [
    "# 024\n",
    "string = \"PYTHON\"\n",
    "string[::-1]"
   ]
  },
  {
   "cell_type": "markdown",
   "id": "d3cb37d5-7baa-40d2-abd6-d00d747da7ca",
   "metadata": {},
   "source": [
    "## 025. 문자열 메서드 - `replace`\n",
    "문자열을 치환할 때 `original_string.replace('old_substring', 'new_substring')` 을 이용해 기존의 문자열을 그대로 두고, 새로운 문자열에 할당해준다."
   ]
  },
  {
   "cell_type": "code",
   "execution_count": 115,
   "id": "f68b9e70-b9da-448a-8013-69e0775e1522",
   "metadata": {},
   "outputs": [
    {
     "name": "stdout",
     "output_type": "stream",
     "text": [
      "010 1111 2222\n"
     ]
    }
   ],
   "source": [
    "# 025\n",
    "phone_number = \"010-1111-2222\"\n",
    "# str는 immutable \n",
    "\n",
    "new_number = phone_number.replace(\"-\", \" \")\n",
    "\n",
    "print(new_number)"
   ]
  },
  {
   "cell_type": "code",
   "execution_count": 126,
   "id": "f5110a69-ddf9-4442-b58c-a0ded3798cc3",
   "metadata": {},
   "outputs": [
    {
     "name": "stdout",
     "output_type": "stream",
     "text": [
      "01011112222\n"
     ]
    }
   ],
   "source": [
    "# 026\n",
    "new_number = phone_number.replace(\"-\", \"\")\n",
    "\n",
    "print(new_number)"
   ]
  },
  {
   "cell_type": "code",
   "execution_count": 127,
   "id": "a2245904-a5fa-406c-8e94-27b31ba0d6c4",
   "metadata": {},
   "outputs": [
    {
     "name": "stdout",
     "output_type": "stream",
     "text": [
      "01011112222\n"
     ]
    }
   ],
   "source": [
    "phone_number = \"010-1111-2222\"\n",
    "new_number = phone_number.split(\"-\")\n",
    "join_number = ''.join(new_number)\n",
    "print(join_number)"
   ]
  },
  {
   "cell_type": "code",
   "execution_count": 129,
   "id": "cadfd239-18be-4d85-91b3-32125f9afa76",
   "metadata": {},
   "outputs": [
    {
     "name": "stdout",
     "output_type": "stream",
     "text": [
      "kr\n"
     ]
    }
   ],
   "source": [
    "# 027\n",
    "url = \"http://sharebook.kr\"\n",
    "print(url[-2:])"
   ]
  },
  {
   "cell_type": "code",
   "execution_count": 132,
   "id": "194c76e8-6a0f-47c1-89d8-d9b7dd6424d0",
   "metadata": {},
   "outputs": [
    {
     "name": "stdout",
     "output_type": "stream",
     "text": [
      "kr\n"
     ]
    }
   ],
   "source": [
    "new_url = url.split(\".\")\n",
    "print(new_url[-1])"
   ]
  },
  {
   "cell_type": "markdown",
   "id": "008f2f3a-c43a-4c9c-a40d-9d44642f7868",
   "metadata": {},
   "source": [
    "## 028. 문자열은 immutable\n",
    "문자열은 변경 불가능한 특성을 가진다. 한번 할당된 문자열은 수정할 수 없다.\n",
    "\n",
    "아래처럼 문자열 재할당시 오류가 발생한다.\n",
    "```python\n",
    "string = \"PYTHON\"\n",
    "string[0] = 'P'\n",
    "```\n",
    "\n",
    "대신 `replace` 메서드를 이용해 수정된 문자열을 새로운 변수에 할당할 수 있다."
   ]
  },
  {
   "cell_type": "code",
   "execution_count": 2,
   "id": "3e10501d-8bc0-421f-b599-e7f3671982dc",
   "metadata": {},
   "outputs": [
    {
     "ename": "TypeError",
     "evalue": "'str' object does not support item assignment",
     "output_type": "error",
     "traceback": [
      "\u001b[1;31m---------------------------------------------------------------------------\u001b[0m",
      "\u001b[1;31mTypeError\u001b[0m                                 Traceback (most recent call last)",
      "Cell \u001b[1;32mIn[2], line 3\u001b[0m\n\u001b[0;32m      1\u001b[0m \u001b[38;5;66;03m# 028\u001b[39;00m\n\u001b[0;32m      2\u001b[0m lang \u001b[38;5;241m=\u001b[39m \u001b[38;5;124m'\u001b[39m\u001b[38;5;124mpython\u001b[39m\u001b[38;5;124m'\u001b[39m\n\u001b[1;32m----> 3\u001b[0m \u001b[43mlang\u001b[49m\u001b[43m[\u001b[49m\u001b[38;5;241;43m0\u001b[39;49m\u001b[43m]\u001b[49m \u001b[38;5;241m=\u001b[39m \u001b[38;5;124m'\u001b[39m\u001b[38;5;124mP\u001b[39m\u001b[38;5;124m'\u001b[39m\n\u001b[0;32m      4\u001b[0m \u001b[38;5;28mprint\u001b[39m(lang)\n\u001b[0;32m      6\u001b[0m \u001b[38;5;66;03m# 문자열은 immutable! 한번 할당된 문자열은 수정할 수 없다.\u001b[39;00m\n\u001b[0;32m      7\u001b[0m \u001b[38;5;66;03m# 문자열 재할당시 오류가 발생한다.\u001b[39;00m\n",
      "\u001b[1;31mTypeError\u001b[0m: 'str' object does not support item assignment"
     ]
    }
   ],
   "source": [
    "# 028\n",
    "lang = 'python'\n",
    "lang[0] = 'P'\n",
    "print(lang)\n",
    "\n",
    "# 문자열은 immutable! 한번 할당된 문자열은 수정할 수 없다.\n",
    "# 문자열 재할당시 오류가 발생한다."
   ]
  },
  {
   "cell_type": "code",
   "execution_count": 140,
   "id": "202f78ab-bac1-4127-9de4-55d770fddcb6",
   "metadata": {},
   "outputs": [
    {
     "name": "stdout",
     "output_type": "stream",
     "text": [
      "Abcdfe2A354A32A\n"
     ]
    }
   ],
   "source": [
    "# 029\n",
    "string = 'abcdfe2a354a32a'\n",
    "new_string = string.replace(\"a\", \"A\")\n",
    "print(new_string)"
   ]
  },
  {
   "cell_type": "code",
   "execution_count": 143,
   "id": "b46bed4e-4d05-4345-b6d5-4996cd334b35",
   "metadata": {},
   "outputs": [
    {
     "name": "stdout",
     "output_type": "stream",
     "text": [
      "abcd\n"
     ]
    }
   ],
   "source": [
    "# 030\n",
    "string = 'abcd'\n",
    "string.replace('b', 'B')\n",
    "print(string)\n",
    "# => 'abcd'"
   ]
  },
  {
   "cell_type": "code",
   "execution_count": 2,
   "id": "6d0bf250-0473-4cd6-89d1-ddad46d27c5f",
   "metadata": {},
   "outputs": [
    {
     "name": "stdout",
     "output_type": "stream",
     "text": [
      "34\n"
     ]
    }
   ],
   "source": [
    "# 031\n",
    "a = \"3\"\n",
    "b = \"4\"\n",
    "print(a + b)\n",
    "# 34 가 출력될 것으로 예상"
   ]
  },
  {
   "cell_type": "code",
   "execution_count": 4,
   "id": "26f93ba4-928d-4789-bef0-a3e89d0bbf68",
   "metadata": {},
   "outputs": [
    {
     "name": "stdout",
     "output_type": "stream",
     "text": [
      "HiHiHi\n"
     ]
    }
   ],
   "source": [
    "# 032 \n",
    "print(\"Hi\" * 3)\n",
    "# HiHiHi 가 출력될 것으로 예상"
   ]
  },
  {
   "cell_type": "code",
   "execution_count": 5,
   "id": "b18ccc32-4b38-4d24-991a-4fe9edd51066",
   "metadata": {},
   "outputs": [
    {
     "name": "stdout",
     "output_type": "stream",
     "text": [
      "--------------------------------------------------------------------------------\n"
     ]
    }
   ],
   "source": [
    "# 033\n",
    "print(\"-\" * 80)"
   ]
  },
  {
   "cell_type": "markdown",
   "id": "319a81aa-a608-40be-8537-46c622f01640",
   "metadata": {},
   "source": [
    "### 035. 문자열 출력\n",
    "* `% formatiing`\n",
    "    - `%s`는 문자열 데이터 타입의 값을 출력을 의미\n",
    "    - `%d`는 정수형 데이터 타입의 값의 출력을 의미\n",
    "    - 뒤에 위치한 변수들에 대응\n",
    "    - Python 3.6버전 이후부터 `f-stirings` 나 `str.format()` 메서드를 사용하는 것이 권장된다.\n",
    "```python\n",
    "# 035\n",
    "print('이름 : %s 나이 : %d' % (name1, age1))\n",
    "print('이름 : %s 나이 : %d' % (name2, age2))\n",
    "```\n",
    "* `str.format()`\n",
    "    - 문자열의 포맷 메서드는 타입과 상관없이 값이 출력될 위치에 `{ }`를 적어준다.\n",
    "```python\n",
    "# 036\n",
    "print('이름 : {} 나이 : {}'.format(name1, age1))\n",
    "print('이름 : {} 나이 : {}'.format(name1, age1))\n",
    "```\n",
    "\n",
    "* `f-strings`\n",
    "    - f-string은 문자열 앞에 f가 붙은 형태\n",
    "    - f-string을 사용하면 `{변수}`와 같은 형태로 문자열 사이에 타입과 상관없이 값을 출력 가능\n",
    "    - Python 3.6버전부터 지원. 이 방법을 가장 많이 사용\n",
    "```python\n",
    "# 037\n",
    "print(f'이름 : {name1} 나이 : {age1}')\n",
    "print(f'이름 : {name2} 나이 : {age2}')\n",
    "```"
   ]
  },
  {
   "cell_type": "code",
   "execution_count": 8,
   "id": "e2a67d91-5e5c-4b49-98ec-87d18a21afb4",
   "metadata": {},
   "outputs": [
    {
     "name": "stdout",
     "output_type": "stream",
     "text": [
      "python java python java python java python java \n"
     ]
    }
   ],
   "source": [
    "# 034\n",
    "t1 = 'python'\n",
    "t2 = 'java'\n",
    "print((t1 + \" \" +  t2 + \" \") * 4)"
   ]
  },
  {
   "cell_type": "code",
   "execution_count": 15,
   "id": "4a46b180-8213-45fa-b771-315ef13e444b",
   "metadata": {},
   "outputs": [
    {
     "name": "stdout",
     "output_type": "stream",
     "text": [
      "이름 : 김민수 나이 : 10\n",
      "이름 : 이철희 나이 : 13\n"
     ]
    }
   ],
   "source": [
    "# 035\n",
    "name1 = \"김민수\" \n",
    "age1 = 10\n",
    "name2 = \"이철희\"\n",
    "age2 = 13\n",
    "\n",
    "print(f'이름 : {name1} 나이 : {age1}\\n이름 : {name2} 나이 : {age2}')\n",
    "# % formatting을 몰라서 f'string 으로 문제를 품"
   ]
  },
  {
   "cell_type": "code",
   "execution_count": 18,
   "id": "8ea5f97b-40bf-469f-b7c8-b1604773d13b",
   "metadata": {},
   "outputs": [
    {
     "data": {
      "text/plain": [
       "5969782550"
      ]
     },
     "execution_count": 18,
     "metadata": {},
     "output_type": "execute_result"
    }
   ],
   "source": [
    "# 038\n",
    "\n",
    "outstanding_shares = \"5,969,782,550\"\n",
    "#outstanding shares 발행주식 - 현재 주식시장에서 거래 가능하며 주주에게 소유되어 있는 주식\n",
    "\n",
    "new_shares = outstanding_shares.replace(\",\", \"\")\n",
    "int(new_shares)"
   ]
  },
  {
   "cell_type": "code",
   "execution_count": 20,
   "id": "e1c7ddfe-d574-4559-9d8e-9e4ffe36c672",
   "metadata": {},
   "outputs": [
    {
     "data": {
      "text/plain": [
       "'2020/03'"
      ]
     },
     "execution_count": 20,
     "metadata": {},
     "output_type": "execute_result"
    }
   ],
   "source": [
    "# 039\n",
    "quarter = \"2020/03(E) (IFRS연결)\"\n",
    "# quarter : 분기\n",
    "quarter[:7]"
   ]
  },
  {
   "cell_type": "code",
   "execution_count": 22,
   "id": "8f6bfedd-1169-4edd-92f7-bc2199361d55",
   "metadata": {},
   "outputs": [
    {
     "name": "stdout",
     "output_type": "stream",
     "text": [
      "삼성전자\n"
     ]
    }
   ],
   "source": [
    "# 040\n",
    "data = \"   삼성전자    \"\n",
    "new_data = data.strip()\n",
    "print(new_data)"
   ]
  },
  {
   "cell_type": "code",
   "execution_count": 23,
   "id": "908a25c6-e575-4674-b43e-c9ce7b4e0436",
   "metadata": {},
   "outputs": [
    {
     "name": "stdout",
     "output_type": "stream",
     "text": [
      "BTC_KRW\n"
     ]
    }
   ],
   "source": [
    "# 041\n",
    "ticker = \"btc_krw\"\n",
    "\n",
    "new_ticker = ticker.upper()\n",
    "print(new_ticker)"
   ]
  },
  {
   "cell_type": "code",
   "execution_count": 24,
   "id": "c93d1174-edd8-4630-82c0-1efd69ec3d58",
   "metadata": {},
   "outputs": [
    {
     "name": "stdout",
     "output_type": "stream",
     "text": [
      "btc_krw\n"
     ]
    }
   ],
   "source": [
    "# 042\n",
    "ticker = \"BTC_KRW\"\n",
    "\n",
    "new_ticker = ticker.lower()\n",
    "print(new_ticker)"
   ]
  },
  {
   "cell_type": "code",
   "execution_count": 25,
   "id": "d75db1be-d6b6-4408-8e32-1313b8e2db12",
   "metadata": {},
   "outputs": [
    {
     "name": "stdout",
     "output_type": "stream",
     "text": [
      "Hello\n"
     ]
    }
   ],
   "source": [
    "# 043\n",
    "string =  'hello'\n",
    "new_string = string.capitalize()\n",
    "print(new_string)"
   ]
  },
  {
   "cell_type": "markdown",
   "id": "af6b3e21-aa2c-4d1f-a746-90ea5243b099",
   "metadata": {},
   "source": [
    "### 044 문자열 메서드 `.endswith()` \n",
    "문자열(string)이 **지정된 접미사(suffix)로 끝나는지 여부를 확인**하는 메서드.\n",
    "\n",
    "**boolean 값**을 반환한다.\n",
    "- 주어진 접미사로 문자열이 끝나면 `True` 반환\n",
    "- 그렇지 않으면 `Fasle` 반환\n",
    "    \n",
    "```python\n",
    "string.endswith(suffix)\n",
    "```\n",
    "- 접미사의 자리에는 1개의 인자만 받지만, 튜플을 이용해 여러 개의 접미사 중 하나가 있는지 확인할 수 있습니다.\n",
    "```python\n",
    "string.endswith((suffix1, suffix2, suffix3, ...))\n",
    "```\n",
    "- 범위 설정도 가능하다. (생략가능)\n",
    "    - `start` : 검사를 시작할 문자열의 시작위치를 나타내는 옵션 매개변수\n",
    "    - `end` : 검사를 종료할 문자열의 끝 위치를 나타내는 옵션 매개변수\n",
    "```python\n",
    "string.endswith(suffix, start, end) \n",
    "```"
   ]
  },
  {
   "cell_type": "code",
   "execution_count": 27,
   "id": "e817dd64-2c67-467a-8735-56395d9edb13",
   "metadata": {},
   "outputs": [
    {
     "data": {
      "text/plain": [
       "True"
      ]
     },
     "execution_count": 27,
     "metadata": {},
     "output_type": "execute_result"
    }
   ],
   "source": [
    "# 044\n",
    "file_name = \"보고서.xlsx\"\n",
    "\n",
    "file_name.endswith('xlsx')"
   ]
  },
  {
   "cell_type": "code",
   "execution_count": 31,
   "id": "46087216-a04b-47c1-bede-2a3c839ee6f9",
   "metadata": {},
   "outputs": [
    {
     "data": {
      "text/plain": [
       "True"
      ]
     },
     "execution_count": 31,
     "metadata": {},
     "output_type": "execute_result"
    }
   ],
   "source": [
    "# 045\n",
    "file_name = \"보고서.xlsx\"\n",
    "\n",
    "file_name.endswith('xlsx') or file_name.endswith('xls')\n",
    "# endswith 접미사에는 1개의 인자만 받지만 아래와 같이 튜플형태 인자를 받아 여러 개의 접미사를 확인한다.\n",
    "file_name.endswith((\"xlsx\", \"xls\"))"
   ]
  },
  {
   "cell_type": "markdown",
   "id": "7dd651a9-ebca-46b9-8273-657e76a17100",
   "metadata": {},
   "source": [
    "### 046 문자열 메서드 `.startswith()`\n",
    "문자열(string)이 **지정된 접두사(prefix)로 시작하는지 여부를 확인**하는 메서드\n",
    "\n",
    "**boolean 값**을 반환한다.\n",
    "- 주어진 접두사로 문자열이 시작하면 `True` 반환\n",
    "- 그렇지 않으면 `Fasle` 반환\n",
    "```python\n",
    "string.startswith(prefix)\n",
    "```\n",
    "\n",
    "- 접미사의 자리에는 1개의 인자만 받지만, 튜플을 이용해 여러 개의 접미사 중 하나가 있는지 확인할 수 있습니다.\n",
    "```python\n",
    "string.startswith((prefix1, prfix2, prefix3, ... ))\n",
    "```\n",
    "- 범위 설정도 가능하다. (생략가능)\n",
    "    - `start` : 검사를 시작할 문자열의 시작위치를 나타내는 옵션 매개변수\n",
    "    - `end` : 검사를 종료할 문자열의 끝 위치를 나타내는 옵션 매개변수\n",
    "```python\n",
    "string.startswith(prefix, start, end) \n",
    "```"
   ]
  },
  {
   "cell_type": "code",
   "execution_count": 33,
   "id": "72344594-f555-4f33-b5c9-ac4774474659",
   "metadata": {},
   "outputs": [
    {
     "data": {
      "text/plain": [
       "True"
      ]
     },
     "execution_count": 33,
     "metadata": {},
     "output_type": "execute_result"
    }
   ],
   "source": [
    "# 046\n",
    "file_name = \"2020_보고서.xlsx\"\n",
    "\n",
    "file_name.startswith(\"2020\")"
   ]
  },
  {
   "cell_type": "code",
   "execution_count": 34,
   "id": "2ca6a25e-d504-46ad-bc7a-ce14bcc24c9b",
   "metadata": {},
   "outputs": [
    {
     "data": {
      "text/plain": [
       "False"
      ]
     },
     "execution_count": 34,
     "metadata": {},
     "output_type": "execute_result"
    }
   ],
   "source": [
    "file_name.startswith(\"2020\", 2, 7)"
   ]
  },
  {
   "cell_type": "code",
   "execution_count": 36,
   "id": "1bdf10fb-ee4b-4602-aae2-209789600221",
   "metadata": {},
   "outputs": [
    {
     "data": {
      "text/plain": [
       "True"
      ]
     },
     "execution_count": 36,
     "metadata": {},
     "output_type": "execute_result"
    }
   ],
   "source": [
    "file_name.startswith((\"2020\", \"12\"))"
   ]
  },
  {
   "cell_type": "code",
   "execution_count": 41,
   "id": "549b0de9-c626-4b4f-a125-592d462f248e",
   "metadata": {},
   "outputs": [
    {
     "data": {
      "text/plain": [
       "['hello', 'world']"
      ]
     },
     "execution_count": 41,
     "metadata": {},
     "output_type": "execute_result"
    }
   ],
   "source": [
    "# 047\n",
    "a = \"hello world\"\n",
    "\n",
    "a.split()"
   ]
  },
  {
   "cell_type": "code",
   "execution_count": 40,
   "id": "a2bc3e43-abc0-4aa8-8460-8e4c9768abcc",
   "metadata": {},
   "outputs": [
    {
     "data": {
      "text/plain": [
       "['btc', 'krw']"
      ]
     },
     "execution_count": 40,
     "metadata": {},
     "output_type": "execute_result"
    }
   ],
   "source": [
    "# 048\n",
    "ticker = \"btc_krw\"\n",
    "\n",
    "ticker.split(\"_\")"
   ]
  },
  {
   "cell_type": "code",
   "execution_count": 42,
   "id": "c8423ca8-e161-41e4-98b8-e84f59375637",
   "metadata": {},
   "outputs": [
    {
     "data": {
      "text/plain": [
       "['2020', '05', '01']"
      ]
     },
     "execution_count": 42,
     "metadata": {},
     "output_type": "execute_result"
    }
   ],
   "source": [
    "# 049\n",
    "date = \"2020-05-01\"\n",
    "\n",
    "date.split(\"-\")"
   ]
  },
  {
   "cell_type": "code",
   "execution_count": 44,
   "id": "5ee6a79b-dc0d-404c-849e-1a2bfd82d04a",
   "metadata": {},
   "outputs": [
    {
     "data": {
      "text/plain": [
       "'039490'"
      ]
     },
     "execution_count": 44,
     "metadata": {},
     "output_type": "execute_result"
    }
   ],
   "source": [
    "# 050\n",
    "data = \"039490     \"\n",
    "\n",
    "data.strip()"
   ]
  },
  {
   "cell_type": "code",
   "execution_count": 45,
   "id": "5d62f0c0-b243-458c-b79a-f5d23c0fda1b",
   "metadata": {},
   "outputs": [
    {
     "data": {
      "text/plain": [
       "'039490'"
      ]
     },
     "execution_count": 45,
     "metadata": {},
     "output_type": "execute_result"
    }
   ],
   "source": [
    "data.rstrip()"
   ]
  },
  {
   "cell_type": "markdown",
   "id": "698abac8-e1a8-4625-b7b4-f058f562be35",
   "metadata": {},
   "source": [
    "---"
   ]
  },
  {
   "cell_type": "code",
   "execution_count": 5,
   "id": "8a745819-e11d-4498-be0e-790844f87409",
   "metadata": {},
   "outputs": [
    {
     "data": {
      "text/plain": [
       "['닥터 스트레인지', '스플릿', '럭키']"
      ]
     },
     "execution_count": 5,
     "metadata": {},
     "output_type": "execute_result"
    }
   ],
   "source": [
    "# 051\n",
    "movie_rank = ['닥터 스트레인지', '스플릿', '럭키']\n",
    "movie_rank"
   ]
  },
  {
   "cell_type": "code",
   "execution_count": 6,
   "id": "0a1afbcf-b6c4-4888-91cd-cb68246f937c",
   "metadata": {},
   "outputs": [
    {
     "data": {
      "text/plain": [
       "['닥터 스트레인지', '스플릿', '럭키', '베트맨']"
      ]
     },
     "execution_count": 6,
     "metadata": {},
     "output_type": "execute_result"
    }
   ],
   "source": [
    "# 052\n",
    "movie_rank += ['베트맨']\n",
    "movie_rank"
   ]
  },
  {
   "cell_type": "markdown",
   "id": "67eef368-7fff-439d-8c5f-b18b83462efa",
   "metadata": {},
   "source": [
    "## 리스트의 요소 추가\n",
    "`list.append(object)`를 통해 리스트에 요소를 추가할 수 있다."
   ]
  },
  {
   "cell_type": "code",
   "execution_count": 7,
   "id": "bf485732-d8e9-4bf7-98cb-8e37c00bb741",
   "metadata": {},
   "outputs": [
    {
     "data": {
      "text/plain": [
       "['닥터 스트레인지', '스플릿', '럭키', '베트맨', '추가']"
      ]
     },
     "execution_count": 7,
     "metadata": {},
     "output_type": "execute_result"
    }
   ],
   "source": [
    "movie_rank.append('추가')\n",
    "movie_rank"
   ]
  },
  {
   "cell_type": "markdown",
   "id": "b7d93257-2316-48b8-8e7b-784cd03e6e36",
   "metadata": {},
   "source": [
    "## 리스트의 특정 index에 요소 추가\n",
    "`list.insert(index, object)` 메서드를 통해 특정 위치에 값을 끼워넣을 수 있다."
   ]
  },
  {
   "cell_type": "code",
   "execution_count": 10,
   "id": "d92890be-f95e-41f9-a96e-0514b13447d2",
   "metadata": {},
   "outputs": [
    {
     "data": {
      "text/plain": [
       "['닥터 스트레인지', '슈퍼맨', '스플릿', '럭키', '배트맨']"
      ]
     },
     "execution_count": 10,
     "metadata": {},
     "output_type": "execute_result"
    }
   ],
   "source": [
    "movie_rank = ['닥터 스트레인지', '스플릿', '럭키', '배트맨']\n",
    "movie_rank.insert(1, \"슈퍼맨\")\n",
    "movie_rank"
   ]
  },
  {
   "cell_type": "code",
   "execution_count": 15,
   "id": "27cfcf34-a67a-4424-8877-e484cef68230",
   "metadata": {},
   "outputs": [
    {
     "data": {
      "text/plain": [
       "['닥터 스트레인지', '슈퍼맨', '스플릿', '배트맨']"
      ]
     },
     "execution_count": 15,
     "metadata": {},
     "output_type": "execute_result"
    }
   ],
   "source": [
    "movie_rank = ['닥터 스트레인지', '슈퍼맨', '스플릿', '럭키', '배트맨']\n",
    "movie_rank.remove('럭키')\n",
    "movie_rank"
   ]
  }
 ],
 "metadata": {
  "kernelspec": {
   "display_name": "Python 3 (ipykernel)",
   "language": "python",
   "name": "python3"
  },
  "language_info": {
   "codemirror_mode": {
    "name": "ipython",
    "version": 3
   },
   "file_extension": ".py",
   "mimetype": "text/x-python",
   "name": "python",
   "nbconvert_exporter": "python",
   "pygments_lexer": "ipython3",
   "version": "3.11.6"
  }
 },
 "nbformat": 4,
 "nbformat_minor": 5
}
