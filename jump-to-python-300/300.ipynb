{
 "cells": [
  {
   "cell_type": "code",
   "execution_count": 12,
   "id": "5567cb08-e88f-426b-b972-bb536fa352ab",
   "metadata": {},
   "outputs": [
    {
     "name": "stdout",
     "output_type": "stream",
     "text": [
      "Hello World\n"
     ]
    }
   ],
   "source": [
    "# 001\n",
    "print(\"Hello World\")"
   ]
  },
  {
   "cell_type": "code",
   "execution_count": 13,
   "id": "bdaf5d54-221e-473b-b564-8f55f05861ce",
   "metadata": {},
   "outputs": [
    {
     "name": "stdout",
     "output_type": "stream",
     "text": [
      "Mary's cosmetics\n"
     ]
    }
   ],
   "source": [
    "# 002\n",
    "print(\"Mary's cosmetics\")"
   ]
  },
  {
   "cell_type": "code",
   "execution_count": 14,
   "id": "5ff765bb-15de-4084-84b9-0b19dd2f2fcd",
   "metadata": {},
   "outputs": [
    {
     "name": "stdout",
     "output_type": "stream",
     "text": [
      "신씨가 소리질렀다. \"도둑이야\".\n"
     ]
    }
   ],
   "source": [
    "# 003\n",
    "print('신씨가 소리질렀다. \"도둑이야\".')"
   ]
  },
  {
   "cell_type": "code",
   "execution_count": 16,
   "id": "0906dd31-0d12-4346-b3f9-224247006f5f",
   "metadata": {},
   "outputs": [
    {
     "name": "stdout",
     "output_type": "stream",
     "text": [
      "C:\\Windows\n"
     ]
    }
   ],
   "source": [
    "# 004\n",
    "print(\"C:\\Windows\")"
   ]
  },
  {
   "cell_type": "markdown",
   "id": "5857ad71-dd1e-47e5-8a23-0082761a480d",
   "metadata": {},
   "source": [
    "### 문자열 이스케이프 시퀀스\n",
    "005\n",
    "print(\"안녕하세요. \\n만나서\\t\\t반갑습니다.\")\n",
    "\n",
    "- `\\n` 줄바꿈\n",
    "- `\\t` 탭\n",
    "출력결과는 아래와 같을 것이다.\n",
    "\n",
    "```\n",
    "안녕하세요.\n",
    "만나서        반갑습니다.\n",
    "```"
   ]
  },
  {
   "cell_type": "code",
   "execution_count": 17,
   "id": "7d05720e-5f0a-44af-a62d-2cfdd6df5e1f",
   "metadata": {},
   "outputs": [
    {
     "name": "stdout",
     "output_type": "stream",
     "text": [
      "안녕하세요. \n",
      "만나서\t\t반갑습니다.\n"
     ]
    }
   ],
   "source": [
    "# 005\n",
    "print(\"안녕하세요. \\n만나서\\t\\t반갑습니다.\")"
   ]
  },
  {
   "cell_type": "code",
   "execution_count": 144,
   "id": "ff2d80c8-03b5-42b7-ab74-114e7b4af35e",
   "metadata": {},
   "outputs": [
    {
     "name": "stdout",
     "output_type": "stream",
     "text": [
      "오늘은 일요일\n"
     ]
    }
   ],
   "source": [
    "# 006\n",
    "# print(\"오늘은\", \"일요일\") 출력결과 예상\n",
    "# => 오늘은 일요일\n",
    "\n",
    "print(\"오늘은\", \"일요일\")"
   ]
  },
  {
   "cell_type": "code",
   "execution_count": 21,
   "id": "2e309ed0-a66e-4a5f-9761-3ade8f4676ac",
   "metadata": {},
   "outputs": [
    {
     "name": "stdout",
     "output_type": "stream",
     "text": [
      "naver;kakao;sk;samsung\n"
     ]
    }
   ],
   "source": [
    "# 007\n",
    "print(\"naver;kakao;sk;samsung\")"
   ]
  },
  {
   "cell_type": "markdown",
   "id": "973e73f7-dbc5-485b-9d75-d616052eef4b",
   "metadata": {},
   "source": [
    "## print() 함수의 sep 인자\n",
    "- print 함수의 sep 인자로 \";\"를 입력하면 출력되는 값들 사이에 한 칸이 공백대신 세미 콜론이 출력된다.\n",
    "- print 함수의 sep 기본인자는 \" \"(공백_스페이스)로 생략되어 있다."
   ]
  },
  {
   "cell_type": "code",
   "execution_count": 22,
   "id": "3dcf62e2-e3b0-4cff-ab6a-fbc588a41316",
   "metadata": {},
   "outputs": [
    {
     "name": "stdout",
     "output_type": "stream",
     "text": [
      "naver;kakao;sk;samsung\n"
     ]
    }
   ],
   "source": [
    "# 007-1\n",
    "print(\"naver\", \"kakao\", \"sk\", \"samsung\", sep=\";\")"
   ]
  },
  {
   "cell_type": "code",
   "execution_count": 23,
   "id": "c70efe73-64ae-4f56-8f53-4274100e8d69",
   "metadata": {},
   "outputs": [
    {
     "name": "stdout",
     "output_type": "stream",
     "text": [
      "naver kakao sk samsung\n"
     ]
    }
   ],
   "source": [
    "# 007-2\n",
    "print(\"naver\", \"kakao\", \"sk\", \"samsung\", sep=\" \")"
   ]
  },
  {
   "cell_type": "code",
   "execution_count": 24,
   "id": "9ce92af0-f3fd-402a-ac9c-583914214b3e",
   "metadata": {},
   "outputs": [
    {
     "name": "stdout",
     "output_type": "stream",
     "text": [
      "naver:kakao:sk:samsung\n"
     ]
    }
   ],
   "source": [
    "# 007-3\n",
    "print(\"naver\", \"kakao\", \"sk\", \"samsung\", sep=\":\")"
   ]
  },
  {
   "cell_type": "code",
   "execution_count": 25,
   "id": "c3f67237-e48f-48e1-968d-40f015be0ff8",
   "metadata": {},
   "outputs": [
    {
     "name": "stdout",
     "output_type": "stream",
     "text": [
      "naverkakaosksamsung\n"
     ]
    }
   ],
   "source": [
    "# 007-4\n",
    "print(\"naver\", \"kakao\", \"sk\", \"samsung\", sep=\"\")"
   ]
  },
  {
   "cell_type": "code",
   "execution_count": 26,
   "id": "09afd2dc-d5ca-49a2-8bcc-ad8e3df876ec",
   "metadata": {},
   "outputs": [
    {
     "name": "stdout",
     "output_type": "stream",
     "text": [
      "naver/kakao/sk/samsung\n"
     ]
    }
   ],
   "source": [
    "# 008\n",
    "print(\"naver\", \"kakao\", \"sk\", \"samsung\", sep=\"/\")"
   ]
  },
  {
   "cell_type": "code",
   "execution_count": 27,
   "id": "8718e5bf-749b-4003-83ee-8b0ca6bc0b04",
   "metadata": {},
   "outputs": [
    {
     "name": "stdout",
     "output_type": "stream",
     "text": [
      "firstsecond\n"
     ]
    }
   ],
   "source": [
    "# 009\n",
    "print(\"first\", end=\"\")\n",
    "print(\"second\")"
   ]
  },
  {
   "cell_type": "code",
   "execution_count": 28,
   "id": "bb75cb64-662c-42da-a7c2-001b19ccba33",
   "metadata": {},
   "outputs": [
    {
     "name": "stdout",
     "output_type": "stream",
     "text": [
      "1.6666666666666667\n"
     ]
    }
   ],
   "source": [
    "# 010\n",
    "print(5 / 3)"
   ]
  },
  {
   "cell_type": "code",
   "execution_count": 31,
   "id": "eb14eeda-d2f4-4f6e-bfd5-0d86ffea023e",
   "metadata": {},
   "outputs": [
    {
     "name": "stdout",
     "output_type": "stream",
     "text": [
      "500000\n"
     ]
    }
   ],
   "source": [
    "# 011\n",
    "samsung_elec = 50000\n",
    "total_eval_amount = samsung_elec * 10\n",
    "print(total_eval_amount)"
   ]
  },
  {
   "cell_type": "code",
   "execution_count": 35,
   "id": "622fd4ca-f90d-40a5-924c-6acfff9c07b8",
   "metadata": {},
   "outputs": [],
   "source": [
    "# 012\n",
    "market_cap = 298000000000000\n",
    "current_stock_price = 50000\n",
    "PER = 15.79\n",
    "\n",
    "# PER은 Price-to-Earnings Ratio의 약자로 주식의 현재가격을 주당 순이익으로 나눈 비율.\n",
    "# 주가 대비 기업의 수익성을 측정하는 지표로 사용, 투자자들이 주식의 상대적인 가치를 평가할 때 도움을 준다."
   ]
  },
  {
   "cell_type": "code",
   "execution_count": 34,
   "id": "6e0382f0-d9ed-4c43-8364-da58251feee1",
   "metadata": {},
   "outputs": [
    {
     "name": "stdout",
     "output_type": "stream",
     "text": [
      "298000000000000 <class 'int'>\n",
      "50000 <class 'int'>\n",
      "15.79 <class 'float'>\n"
     ]
    }
   ],
   "source": [
    "print(market_cap, type(market_cap))\n",
    "print(current_stock_price, type(current_stock_price))\n",
    "print(PER, type(PER))"
   ]
  },
  {
   "cell_type": "code",
   "execution_count": 41,
   "id": "69974c7f-17b0-4b51-bff0-2eba4a48c9b9",
   "metadata": {},
   "outputs": [
    {
     "name": "stdout",
     "output_type": "stream",
     "text": [
      "hello! python\n",
      "hello! python\n"
     ]
    }
   ],
   "source": [
    "# 013\n",
    "s = \"hello\"\n",
    "t = \"python\"\n",
    "\n",
    "print(s + \"! \" + t)\n",
    "print(s+\"!\", t)"
   ]
  },
  {
   "cell_type": "code",
   "execution_count": 42,
   "id": "3fd2ce06-e164-4d97-9f12-0c7605bca3a8",
   "metadata": {},
   "outputs": [
    {
     "data": {
      "text/plain": [
       "8"
      ]
     },
     "execution_count": 42,
     "metadata": {},
     "output_type": "execute_result"
    }
   ],
   "source": [
    "# 014\n",
    "2 + 2 * 3\n",
    "# return value 8로 예상"
   ]
  },
  {
   "cell_type": "code",
   "execution_count": 43,
   "id": "884c1916-419a-469c-bbfb-4df69be2d606",
   "metadata": {},
   "outputs": [
    {
     "data": {
      "text/plain": [
       "str"
      ]
     },
     "execution_count": 43,
     "metadata": {},
     "output_type": "execute_result"
    }
   ],
   "source": [
    "# 015\n",
    "a = \"132\"\n",
    "# type(a) => str\n",
    "type(a)"
   ]
  },
  {
   "cell_type": "code",
   "execution_count": 44,
   "id": "efb5c4a4-78f1-49bf-9484-318fec5ff5f0",
   "metadata": {},
   "outputs": [
    {
     "name": "stdout",
     "output_type": "stream",
     "text": [
      "720 <class 'int'>\n"
     ]
    }
   ],
   "source": [
    "# 016\n",
    "num_str = \"720\"\n",
    "print(int(num_str), type(int(num_str)))"
   ]
  },
  {
   "cell_type": "code",
   "execution_count": 45,
   "id": "05c733f2-8fa0-4f62-a3ba-7472a526e4dc",
   "metadata": {},
   "outputs": [
    {
     "name": "stdout",
     "output_type": "stream",
     "text": [
      "100 <class 'str'>\n"
     ]
    }
   ],
   "source": [
    "# 017\n",
    "num = 100\n",
    "print(str(num), type(str(num)))"
   ]
  },
  {
   "cell_type": "code",
   "execution_count": 46,
   "id": "c8e068fa-9ff8-4d46-8f47-f2e944e35da7",
   "metadata": {},
   "outputs": [
    {
     "name": "stdout",
     "output_type": "stream",
     "text": [
      "15.79 <class 'float'>\n"
     ]
    }
   ],
   "source": [
    "# 018\n",
    "print(float(\"15.79\"), type(float(\"15.79\")))"
   ]
  },
  {
   "cell_type": "code",
   "execution_count": 48,
   "id": "76de53de-faed-46df-adb0-2e76025c0411",
   "metadata": {},
   "outputs": [
    {
     "name": "stdout",
     "output_type": "stream",
     "text": [
      "2019 2018 2017\n"
     ]
    }
   ],
   "source": [
    "# 019\n",
    "year = \"2020\"\n",
    "int(year)\n",
    "print(int(year) - 1, int(year) - 2, int(year) -3)"
   ]
  },
  {
   "cell_type": "code",
   "execution_count": 49,
   "id": "5eed645f-3bb5-4bfa-8c3e-c7ab57232027",
   "metadata": {},
   "outputs": [
    {
     "name": "stdout",
     "output_type": "stream",
     "text": [
      "1749024\n"
     ]
    }
   ],
   "source": [
    "# 020\n",
    "aircon_month_price = 48584\n",
    "month = 36\n",
    "total_price = aircon_month_price * month\n",
    "print(total_price)"
   ]
  },
  {
   "cell_type": "code",
   "execution_count": 50,
   "id": "066e08e5-655b-4584-8f22-980ca3edc510",
   "metadata": {},
   "outputs": [
    {
     "name": "stdout",
     "output_type": "stream",
     "text": [
      "p t\n"
     ]
    }
   ],
   "source": [
    "# 021\n",
    "letters = 'python'\n",
    "print(letters[0], letters[2])"
   ]
  },
  {
   "cell_type": "code",
   "execution_count": 53,
   "id": "d5711c8d-6079-4144-9c22-96bce1c5c8f9",
   "metadata": {},
   "outputs": [
    {
     "data": {
      "text/plain": [
       "'2210'"
      ]
     },
     "execution_count": 53,
     "metadata": {},
     "output_type": "execute_result"
    }
   ],
   "source": [
    "# 022\n",
    "license_plate = \"24가 2210\"\n",
    "license_plate[4:]"
   ]
  },
  {
   "cell_type": "code",
   "execution_count": 76,
   "id": "696cea34-690b-4252-b59e-29a2658d3016",
   "metadata": {},
   "outputs": [
    {
     "data": {
      "text/plain": [
       "'2210'"
      ]
     },
     "execution_count": 76,
     "metadata": {},
     "output_type": "execute_result"
    }
   ],
   "source": [
    "license_plate[-4:]"
   ]
  },
  {
   "cell_type": "markdown",
   "id": "a06d9210-6db1-48cc-88f6-d3ff98ec0c2d",
   "metadata": {},
   "source": [
    "## 문자열 슬라이싱\n",
    "문자열에서 여러 글자를 가져오는 것을 슬라이싱이라고 한다.\n",
    "\n",
    "`String[start:stop:step]`\n",
    "- `start` : 슬라이싱을 시작할 인덱스로 생략하면 0으로 간주한다. 해당 인덱스의 문자가 결과에 포함된다.\n",
    "- `stop` : 슬라이싱을 끝낼 인덱스로 생략하면 문자열의 끝을 의미한다. 해당 인덱스 전(stop -1)까지의 문자가 결과에 포함된다.\n",
    "- `step` : 간격을 타나낸다. step에 들어가는 정수만큼 건너뛰면서 슬라이싱하는 것을 의미한다. 선택사항이기 때문에 생략해도 괜찮다.\n",
    "- 슬라이싱 할 범위에 문자열이 없으면 '' 빈 문자열을 반환한다.\n",
    "- 인덱스에 **음수**를 넣으면 **문자열의 끝에서부터 역으로 인덱싱 혹은 슬라이싱**함을 의미한다.\n",
    "    - `start` 0은 따로 의미가 있기 때문에 음수로 할 경우 -1부터 카운팅되는 점을 유의\n",
    "\n",
    "||H|e|l|l|o|,||W|o|r|l|d|\n",
    "|---|---|---|---|---|---|---|---|---|---|---|---|---|\n",
    "|start +|0|1|2|3|4|5|6|7|8|9|10|11|\n",
    "|start -|-12|-11|-10|-9|-8|-7|-6|-5|-4|-3|-2|-1|\n",
    "|stop +|1|2|3|4|5|6|7|8|9|10|11|12|\n",
    "|stop -|-11|-10|-9|-8|-7|-6|-5|-4|-3|-2|-1|12|"
   ]
  },
  {
   "cell_type": "code",
   "execution_count": 109,
   "id": "923fd06d-5eaf-49be-beb8-65a0ef9f67b4",
   "metadata": {},
   "outputs": [
    {
     "data": {
      "text/plain": [
       "'llo, Worl'"
      ]
     },
     "execution_count": 109,
     "metadata": {},
     "output_type": "execute_result"
    }
   ],
   "source": [
    "# 022-13\n",
    "text = \"Hello, World\"\n",
    "\n",
    "text[-10:11]"
   ]
  },
  {
   "cell_type": "code",
   "execution_count": 110,
   "id": "abe0d6d1-487e-49cb-9b7a-28c7480f4f92",
   "metadata": {},
   "outputs": [
    {
     "data": {
      "text/plain": [
       "'Hello, Worl'"
      ]
     },
     "execution_count": 110,
     "metadata": {},
     "output_type": "execute_result"
    }
   ],
   "source": [
    "text[0:-1]"
   ]
  },
  {
   "cell_type": "code",
   "execution_count": 97,
   "id": "56b855c9-3008-4e0d-b69e-6054963468f1",
   "metadata": {},
   "outputs": [
    {
     "data": {
      "text/plain": [
       "'ld'"
      ]
     },
     "execution_count": 97,
     "metadata": {},
     "output_type": "execute_result"
    }
   ],
   "source": [
    "text[-2:]"
   ]
  },
  {
   "cell_type": "code",
   "execution_count": 104,
   "id": "ad3677bd-bb59-449c-a737-0ba045889122",
   "metadata": {},
   "outputs": [
    {
     "data": {
      "text/plain": [
       "'Hello, Wor'"
      ]
     },
     "execution_count": 104,
     "metadata": {},
     "output_type": "execute_result"
    }
   ],
   "source": [
    "text[:-2]"
   ]
  },
  {
   "cell_type": "code",
   "execution_count": 99,
   "id": "322c0430-e3bb-47be-a78e-c68243551753",
   "metadata": {},
   "outputs": [
    {
     "data": {
      "text/plain": [
       "'dlroW ,olleH'"
      ]
     },
     "execution_count": 99,
     "metadata": {},
     "output_type": "execute_result"
    }
   ],
   "source": [
    "text[::-1]"
   ]
  },
  {
   "cell_type": "code",
   "execution_count": 102,
   "id": "a0838a42-abae-4386-a320-714a0e4c7f88",
   "metadata": {},
   "outputs": [
    {
     "data": {
      "text/plain": [
       "'lroW ,o'"
      ]
     },
     "execution_count": 102,
     "metadata": {},
     "output_type": "execute_result"
    }
   ],
   "source": [
    "text[-2:-9:-1]"
   ]
  },
  {
   "cell_type": "code",
   "execution_count": 111,
   "id": "af4e5fac-6274-48b1-b34b-13816660e44f",
   "metadata": {},
   "outputs": [
    {
     "data": {
      "text/plain": [
       "'홀홀홀'"
      ]
     },
     "execution_count": 111,
     "metadata": {},
     "output_type": "execute_result"
    }
   ],
   "source": [
    "# 023\n",
    "string = \"홀짝홀짝홀짝\"\n",
    "string[::2]"
   ]
  },
  {
   "cell_type": "code",
   "execution_count": 112,
   "id": "c77c967d-7faa-4023-8e2a-d0de7e128fd2",
   "metadata": {},
   "outputs": [
    {
     "data": {
      "text/plain": [
       "'NOHTYP'"
      ]
     },
     "execution_count": 112,
     "metadata": {},
     "output_type": "execute_result"
    }
   ],
   "source": [
    "# 024\n",
    "string = \"PYTHON\"\n",
    "string[::-1]"
   ]
  },
  {
   "cell_type": "markdown",
   "id": "d3cb37d5-7baa-40d2-abd6-d00d747da7ca",
   "metadata": {},
   "source": [
    "## 문자열 메서드 - `replace`\n",
    "문자열을 치환할 때 `original_string.replace('old_substring', 'new_substring')` 을 이용해 기존의 문자열을 그대로 두고, 새로운 문자열에 할당해준다."
   ]
  },
  {
   "cell_type": "code",
   "execution_count": 115,
   "id": "f68b9e70-b9da-448a-8013-69e0775e1522",
   "metadata": {},
   "outputs": [
    {
     "name": "stdout",
     "output_type": "stream",
     "text": [
      "010 1111 2222\n"
     ]
    }
   ],
   "source": [
    "# 025\n",
    "phone_number = \"010-1111-2222\"\n",
    "# str는 immutable \n",
    "\n",
    "new_number = phone_number.replace(\"-\", \" \")\n",
    "\n",
    "print(new_number)"
   ]
  },
  {
   "cell_type": "code",
   "execution_count": 126,
   "id": "f5110a69-ddf9-4442-b58c-a0ded3798cc3",
   "metadata": {},
   "outputs": [
    {
     "name": "stdout",
     "output_type": "stream",
     "text": [
      "01011112222\n"
     ]
    }
   ],
   "source": [
    "# 026\n",
    "new_number = phone_number.replace(\"-\", \"\")\n",
    "\n",
    "print(new_number)"
   ]
  },
  {
   "cell_type": "code",
   "execution_count": 127,
   "id": "a2245904-a5fa-406c-8e94-27b31ba0d6c4",
   "metadata": {},
   "outputs": [
    {
     "name": "stdout",
     "output_type": "stream",
     "text": [
      "01011112222\n"
     ]
    }
   ],
   "source": [
    "phone_number = \"010-1111-2222\"\n",
    "new_number = phone_number.split(\"-\")\n",
    "join_number = ''.join(new_number)\n",
    "print(join_number)"
   ]
  },
  {
   "cell_type": "code",
   "execution_count": 129,
   "id": "cadfd239-18be-4d85-91b3-32125f9afa76",
   "metadata": {},
   "outputs": [
    {
     "name": "stdout",
     "output_type": "stream",
     "text": [
      "kr\n"
     ]
    }
   ],
   "source": [
    "# 027\n",
    "url = \"http://sharebook.kr\"\n",
    "print(url[-2:])"
   ]
  },
  {
   "cell_type": "code",
   "execution_count": 132,
   "id": "194c76e8-6a0f-47c1-89d8-d9b7dd6424d0",
   "metadata": {},
   "outputs": [
    {
     "name": "stdout",
     "output_type": "stream",
     "text": [
      "kr\n"
     ]
    }
   ],
   "source": [
    "new_url = url.split(\".\")\n",
    "print(new_url[-1])"
   ]
  },
  {
   "cell_type": "markdown",
   "id": "008f2f3a-c43a-4c9c-a40d-9d44642f7868",
   "metadata": {},
   "source": [
    "## 문자열은 immutabl\n",
    "문자열은 변경 불가능한 특성을 가진다. 한번 할당된 문자열은 수정할 수 없다.\n",
    "\n",
    "아래처럼 문자열 재할당시 오류가 발생한다.\n",
    "```python\n",
    "string = \"PYTHON\"\n",
    "string[0] = 'P'\n",
    "```\n",
    "\n",
    "대신 `replace` 메서드를 이용해 수정된 문자열을 새로운 변수에 할당할 수 있다."
   ]
  },
  {
   "cell_type": "code",
   "execution_count": 134,
   "id": "3e10501d-8bc0-421f-b599-e7f3671982dc",
   "metadata": {},
   "outputs": [
    {
     "ename": "TypeError",
     "evalue": "'str' object does not support item assignment",
     "output_type": "error",
     "traceback": [
      "\u001b[1;31m---------------------------------------------------------------------------\u001b[0m",
      "\u001b[1;31mTypeError\u001b[0m                                 Traceback (most recent call last)",
      "Cell \u001b[1;32mIn[134], line 3\u001b[0m\n\u001b[0;32m      1\u001b[0m \u001b[38;5;66;03m# 028\u001b[39;00m\n\u001b[0;32m      2\u001b[0m lang \u001b[38;5;241m=\u001b[39m \u001b[38;5;124m'\u001b[39m\u001b[38;5;124mpython\u001b[39m\u001b[38;5;124m'\u001b[39m\n\u001b[1;32m----> 3\u001b[0m \u001b[43mlang\u001b[49m\u001b[43m[\u001b[49m\u001b[38;5;241;43m0\u001b[39;49m\u001b[43m]\u001b[49m \u001b[38;5;241m=\u001b[39m \u001b[38;5;124m'\u001b[39m\u001b[38;5;124mP\u001b[39m\u001b[38;5;124m'\u001b[39m\n\u001b[0;32m      4\u001b[0m \u001b[38;5;28mprint\u001b[39m(lang)\n",
      "\u001b[1;31mTypeError\u001b[0m: 'str' object does not support item assignment"
     ]
    }
   ],
   "source": [
    "# 028\n",
    "lang = 'python'\n",
    "lang[0] = 'P'\n",
    "print(lang)"
   ]
  },
  {
   "cell_type": "code",
   "execution_count": 140,
   "id": "202f78ab-bac1-4127-9de4-55d770fddcb6",
   "metadata": {},
   "outputs": [
    {
     "name": "stdout",
     "output_type": "stream",
     "text": [
      "Abcdfe2A354A32A\n"
     ]
    }
   ],
   "source": [
    "# 029\n",
    "string = 'abcdfe2a354a32a'\n",
    "new_string = string.replace(\"a\", \"A\")\n",
    "print(new_string)"
   ]
  },
  {
   "cell_type": "code",
   "execution_count": 143,
   "id": "b46bed4e-4d05-4345-b6d5-4996cd334b35",
   "metadata": {},
   "outputs": [
    {
     "name": "stdout",
     "output_type": "stream",
     "text": [
      "abcd\n"
     ]
    }
   ],
   "source": [
    "# 030\n",
    "string = 'abcd'\n",
    "string.replace('b', 'B')\n",
    "print(string)\n",
    "# => 'abcd'"
   ]
  }
 ],
 "metadata": {
  "kernelspec": {
   "display_name": "Python 3 (ipykernel)",
   "language": "python",
   "name": "python3"
  },
  "language_info": {
   "codemirror_mode": {
    "name": "ipython",
    "version": 3
   },
   "file_extension": ".py",
   "mimetype": "text/x-python",
   "name": "python",
   "nbconvert_exporter": "python",
   "pygments_lexer": "ipython3",
   "version": "3.11.6"
  }
 },
 "nbformat": 4,
 "nbformat_minor": 5
}
