{
 "cells": [
  {
   "cell_type": "code",
   "execution_count": 12,
   "id": "5567cb08-e88f-426b-b972-bb536fa352ab",
   "metadata": {},
   "outputs": [
    {
     "name": "stdout",
     "output_type": "stream",
     "text": [
      "Hello World\n"
     ]
    }
   ],
   "source": [
    "# 001\n",
    "print(\"Hello World\")"
   ]
  },
  {
   "cell_type": "code",
   "execution_count": 13,
   "id": "bdaf5d54-221e-473b-b564-8f55f05861ce",
   "metadata": {},
   "outputs": [
    {
     "name": "stdout",
     "output_type": "stream",
     "text": [
      "Mary's cosmetics\n"
     ]
    }
   ],
   "source": [
    "# 002\n",
    "print(\"Mary's cosmetics\")"
   ]
  },
  {
   "cell_type": "code",
   "execution_count": 14,
   "id": "5ff765bb-15de-4084-84b9-0b19dd2f2fcd",
   "metadata": {},
   "outputs": [
    {
     "name": "stdout",
     "output_type": "stream",
     "text": [
      "신씨가 소리질렀다. \"도둑이야\".\n"
     ]
    }
   ],
   "source": [
    "# 003\n",
    "print('신씨가 소리질렀다. \"도둑이야\".')"
   ]
  },
  {
   "cell_type": "code",
   "execution_count": 16,
   "id": "0906dd31-0d12-4346-b3f9-224247006f5f",
   "metadata": {},
   "outputs": [
    {
     "name": "stdout",
     "output_type": "stream",
     "text": [
      "C:\\Windows\n"
     ]
    }
   ],
   "source": [
    "# 004\n",
    "print(\"C:\\Windows\")"
   ]
  },
  {
   "cell_type": "markdown",
   "id": "5857ad71-dd1e-47e5-8a23-0082761a480d",
   "metadata": {},
   "source": [
    "005\n",
    "\n",
    "print(\"안녕하세요. \\n만나서\\t\\t반갑습니다.\")\n",
    "\n",
    "- `\\n` 줄바꿈\n",
    "- `\\t` 탭\n",
    "출력결과는 아래와 같을 것이다.\n",
    "\n",
    "```\n",
    "안녕하세요.\n",
    "만나서        반갑습니다.\n",
    "```"
   ]
  },
  {
   "cell_type": "code",
   "execution_count": 17,
   "id": "7d05720e-5f0a-44af-a62d-2cfdd6df5e1f",
   "metadata": {},
   "outputs": [
    {
     "name": "stdout",
     "output_type": "stream",
     "text": [
      "안녕하세요. \n",
      "만나서\t\t반갑습니다.\n"
     ]
    }
   ],
   "source": [
    "# 005\n",
    "print(\"안녕하세요. \\n만나서\\t\\t반갑습니다.\")"
   ]
  },
  {
   "cell_type": "markdown",
   "id": "5f527c30-e30d-4505-8144-c0dfc13077e6",
   "metadata": {},
   "source": [
    "006\n",
    "\n",
    "print(\"오늘은\", \"일요일\") 출력결과 예상\n",
    "```\n",
    "오늘은 일요일\n",
    "```"
   ]
  },
  {
   "cell_type": "code",
   "execution_count": 18,
   "id": "ff2d80c8-03b5-42b7-ab74-114e7b4af35e",
   "metadata": {},
   "outputs": [
    {
     "name": "stdout",
     "output_type": "stream",
     "text": [
      "오늘은 일요일\n"
     ]
    }
   ],
   "source": [
    "# 006\n",
    "print(\"오늘은\", \"일요일\")"
   ]
  },
  {
   "cell_type": "code",
   "execution_count": 21,
   "id": "2e309ed0-a66e-4a5f-9761-3ade8f4676ac",
   "metadata": {},
   "outputs": [
    {
     "name": "stdout",
     "output_type": "stream",
     "text": [
      "naver;kakao;sk;samsung\n"
     ]
    }
   ],
   "source": [
    "# 007\n",
    "print(\"naver;kakao;sk;samsung\")"
   ]
  },
  {
   "cell_type": "markdown",
   "id": "973e73f7-dbc5-485b-9d75-d616052eef4b",
   "metadata": {},
   "source": [
    "## print() 함수의 sep 인자\n",
    "- print 함수의 sep 인자로 \";\"를 입력하면 출력되는 값들 사이에 한 칸이 공백대신 세미 콜론이 출력된다.\n",
    "- print 함수의 sep 기본인자는 \" \"(공백_스페이스)로 생략되어 있다."
   ]
  },
  {
   "cell_type": "code",
   "execution_count": 22,
   "id": "3dcf62e2-e3b0-4cff-ab6a-fbc588a41316",
   "metadata": {},
   "outputs": [
    {
     "name": "stdout",
     "output_type": "stream",
     "text": [
      "naver;kakao;sk;samsung\n"
     ]
    }
   ],
   "source": [
    "# 007-1\n",
    "print(\"naver\", \"kakao\", \"sk\", \"samsung\", sep=\";\")"
   ]
  },
  {
   "cell_type": "code",
   "execution_count": 23,
   "id": "c70efe73-64ae-4f56-8f53-4274100e8d69",
   "metadata": {},
   "outputs": [
    {
     "name": "stdout",
     "output_type": "stream",
     "text": [
      "naver kakao sk samsung\n"
     ]
    }
   ],
   "source": [
    "# 007-2\n",
    "print(\"naver\", \"kakao\", \"sk\", \"samsung\", sep=\" \")"
   ]
  },
  {
   "cell_type": "code",
   "execution_count": 24,
   "id": "9ce92af0-f3fd-402a-ac9c-583914214b3e",
   "metadata": {},
   "outputs": [
    {
     "name": "stdout",
     "output_type": "stream",
     "text": [
      "naver:kakao:sk:samsung\n"
     ]
    }
   ],
   "source": [
    "# 007-3\n",
    "print(\"naver\", \"kakao\", \"sk\", \"samsung\", sep=\":\")"
   ]
  },
  {
   "cell_type": "code",
   "execution_count": 25,
   "id": "c3f67237-e48f-48e1-968d-40f015be0ff8",
   "metadata": {},
   "outputs": [
    {
     "name": "stdout",
     "output_type": "stream",
     "text": [
      "naverkakaosksamsung\n"
     ]
    }
   ],
   "source": [
    "# 007-4\n",
    "print(\"naver\", \"kakao\", \"sk\", \"samsung\", sep=\"\")"
   ]
  },
  {
   "cell_type": "code",
   "execution_count": 26,
   "id": "09afd2dc-d5ca-49a2-8bcc-ad8e3df876ec",
   "metadata": {},
   "outputs": [
    {
     "name": "stdout",
     "output_type": "stream",
     "text": [
      "naver/kakao/sk/samsung\n"
     ]
    }
   ],
   "source": [
    "# 008\n",
    "print(\"naver\", \"kakao\", \"sk\", \"samsung\", sep=\"/\")"
   ]
  },
  {
   "cell_type": "code",
   "execution_count": 27,
   "id": "8718e5bf-749b-4003-83ee-8b0ca6bc0b04",
   "metadata": {},
   "outputs": [
    {
     "name": "stdout",
     "output_type": "stream",
     "text": [
      "firstsecond\n"
     ]
    }
   ],
   "source": [
    "# 009\n",
    "print(\"first\", end=\"\")\n",
    "print(\"second\")"
   ]
  },
  {
   "cell_type": "code",
   "execution_count": 28,
   "id": "bb75cb64-662c-42da-a7c2-001b19ccba33",
   "metadata": {},
   "outputs": [
    {
     "name": "stdout",
     "output_type": "stream",
     "text": [
      "1.6666666666666667\n"
     ]
    }
   ],
   "source": [
    "# 010\n",
    "print(5 / 3)"
   ]
  },
  {
   "cell_type": "code",
   "execution_count": 31,
   "id": "eb14eeda-d2f4-4f6e-bfd5-0d86ffea023e",
   "metadata": {},
   "outputs": [
    {
     "name": "stdout",
     "output_type": "stream",
     "text": [
      "500000\n"
     ]
    }
   ],
   "source": [
    "# 011\n",
    "samsung_elec = 50000\n",
    "total_eval_amount = samsung_elec * 10\n",
    "print(total_eval_amount)"
   ]
  },
  {
   "cell_type": "code",
   "execution_count": 35,
   "id": "622fd4ca-f90d-40a5-924c-6acfff9c07b8",
   "metadata": {},
   "outputs": [],
   "source": [
    "# 012\n",
    "market_cap = 298000000000000\n",
    "current_stock_price = 50000\n",
    "PER = 15.79\n",
    "\n",
    "# PER은 Price-to-Earnings Ratio의 약자로 주식의 현재가격을 주당 순이익으로 나눈 비율.\n",
    "# 주가 대비 기업의 수익성을 측정하는 지표로 사용, 투자자들이 주식의 상대적인 가치를 평가할 때 도움을 준다."
   ]
  },
  {
   "cell_type": "code",
   "execution_count": 34,
   "id": "6e0382f0-d9ed-4c43-8364-da58251feee1",
   "metadata": {},
   "outputs": [
    {
     "name": "stdout",
     "output_type": "stream",
     "text": [
      "298000000000000 <class 'int'>\n",
      "50000 <class 'int'>\n",
      "15.79 <class 'float'>\n"
     ]
    }
   ],
   "source": [
    "print(market_cap, type(market_cap))\n",
    "print(current_stock_price, type(current_stock_price))\n",
    "print(PER, type(PER))"
   ]
  },
  {
   "cell_type": "code",
   "execution_count": 41,
   "id": "69974c7f-17b0-4b51-bff0-2eba4a48c9b9",
   "metadata": {},
   "outputs": [
    {
     "name": "stdout",
     "output_type": "stream",
     "text": [
      "hello! python\n",
      "hello! python\n"
     ]
    }
   ],
   "source": [
    "# 013\n",
    "s = \"hello\"\n",
    "t = \"python\"\n",
    "\n",
    "print(s + \"! \" + t)\n",
    "print(s+\"!\", t)"
   ]
  },
  {
   "cell_type": "code",
   "execution_count": 42,
   "id": "3fd2ce06-e164-4d97-9f12-0c7605bca3a8",
   "metadata": {},
   "outputs": [
    {
     "data": {
      "text/plain": [
       "8"
      ]
     },
     "execution_count": 42,
     "metadata": {},
     "output_type": "execute_result"
    }
   ],
   "source": [
    "# 014\n",
    "2 + 2 * 3\n",
    "# return value 8로 예상"
   ]
  },
  {
   "cell_type": "code",
   "execution_count": 43,
   "id": "884c1916-419a-469c-bbfb-4df69be2d606",
   "metadata": {},
   "outputs": [
    {
     "data": {
      "text/plain": [
       "str"
      ]
     },
     "execution_count": 43,
     "metadata": {},
     "output_type": "execute_result"
    }
   ],
   "source": [
    "# 015\n",
    "a = \"132\"\n",
    "# type(a) => str\n",
    "type(a)"
   ]
  },
  {
   "cell_type": "code",
   "execution_count": 44,
   "id": "efb5c4a4-78f1-49bf-9484-318fec5ff5f0",
   "metadata": {},
   "outputs": [
    {
     "name": "stdout",
     "output_type": "stream",
     "text": [
      "720 <class 'int'>\n"
     ]
    }
   ],
   "source": [
    "# 016\n",
    "num_str = \"720\"\n",
    "print(int(num_str), type(int(num_str)))"
   ]
  },
  {
   "cell_type": "code",
   "execution_count": 45,
   "id": "05c733f2-8fa0-4f62-a3ba-7472a526e4dc",
   "metadata": {},
   "outputs": [
    {
     "name": "stdout",
     "output_type": "stream",
     "text": [
      "100 <class 'str'>\n"
     ]
    }
   ],
   "source": [
    "# 017\n",
    "num = 100\n",
    "print(str(num), type(str(num)))"
   ]
  },
  {
   "cell_type": "code",
   "execution_count": 46,
   "id": "c8e068fa-9ff8-4d46-8f47-f2e944e35da7",
   "metadata": {},
   "outputs": [
    {
     "name": "stdout",
     "output_type": "stream",
     "text": [
      "15.79 <class 'float'>\n"
     ]
    }
   ],
   "source": [
    "# 018\n",
    "print(float(\"15.79\"), type(float(\"15.79\")))"
   ]
  },
  {
   "cell_type": "code",
   "execution_count": 48,
   "id": "76de53de-faed-46df-adb0-2e76025c0411",
   "metadata": {},
   "outputs": [
    {
     "name": "stdout",
     "output_type": "stream",
     "text": [
      "2019 2018 2017\n"
     ]
    }
   ],
   "source": [
    "# 019\n",
    "year = \"2020\"\n",
    "int(year)\n",
    "print(int(year) - 1, int(year) - 2, int(year) -3)"
   ]
  },
  {
   "cell_type": "code",
   "execution_count": 49,
   "id": "5eed645f-3bb5-4bfa-8c3e-c7ab57232027",
   "metadata": {},
   "outputs": [
    {
     "name": "stdout",
     "output_type": "stream",
     "text": [
      "1749024\n"
     ]
    }
   ],
   "source": [
    "# 020\n",
    "aircon_month_price = 48584\n",
    "month = 36\n",
    "total_price = aircon_month_price * month\n",
    "print(total_price)"
   ]
  },
  {
   "cell_type": "code",
   "execution_count": 50,
   "id": "066e08e5-655b-4584-8f22-980ca3edc510",
   "metadata": {},
   "outputs": [
    {
     "name": "stdout",
     "output_type": "stream",
     "text": [
      "p t\n"
     ]
    }
   ],
   "source": [
    "# 021\n",
    "letters = 'python'\n",
    "print(letters[0], letters[2])"
   ]
  },
  {
   "cell_type": "code",
   "execution_count": 53,
   "id": "d5711c8d-6079-4144-9c22-96bce1c5c8f9",
   "metadata": {},
   "outputs": [
    {
     "data": {
      "text/plain": [
       "'2210'"
      ]
     },
     "execution_count": 53,
     "metadata": {},
     "output_type": "execute_result"
    }
   ],
   "source": [
    "# 022\n",
    "license_plate = \"24가 2210\"\n",
    "license_plate[4:]"
   ]
  },
  {
   "cell_type": "code",
   "execution_count": null,
   "id": "94a0f45f-528e-42b2-aac5-39e243ddec4c",
   "metadata": {},
   "outputs": [],
   "source": [
    "### 문자열 슬라이싱\n",
    "문자열에서 여러 글자를 가져오는 것을 슬라이싱이라고 한다.\n",
    "`String[start:stop:step]`\n",
    "- `start` : 슬라이싱을 시작할 인덱스로 생략하면 0으로 간주한다. 해당 인덱스의 문자가 결과에 포함된다.\n",
    "- `stop` : 슬라이싱을 끝낼 인덱스로 생략하면 문자열의 끝을 의미한다. 해당 인덱스 전(stop -1)까지의 문자가 결과에 포함된다.\n",
    "- `step` : 간격을 타나낸다. step에 들어가는 정수만큼 건너뛰면서 슬라이싱하는 것을 의미한다. 선택사항이기 때문에 생략해도 괜찮다.\n",
    "- 인덱스에 음수를 넣으면 문자열의 끝에서부터 역으로 인덱싱 혹은 슬라이싱함을 의미한다.\n",
    "    - `start`과 `stop` "
   ]
  },
  {
   "cell_type": "code",
   "execution_count": 54,
   "id": "399c02f8-4795-48c7-9139-aa62794e327c",
   "metadata": {},
   "outputs": [
    {
     "data": {
      "text/plain": [
       "'24가 2210'"
      ]
     },
     "execution_count": 54,
     "metadata": {},
     "output_type": "execute_result"
    }
   ],
   "source": [
    "# 022-1\n",
    "license_plate[:]"
   ]
  },
  {
   "cell_type": "code",
   "execution_count": 55,
   "id": "c6c2dda3-0b09-4967-8f01-fb72dc1fe2b8",
   "metadata": {},
   "outputs": [
    {
     "data": {
      "text/plain": [
       "'2210'"
      ]
     },
     "execution_count": 55,
     "metadata": {},
     "output_type": "execute_result"
    }
   ],
   "source": [
    "# 022-1\n",
    "license_plate[4:]"
   ]
  },
  {
   "cell_type": "code",
   "execution_count": 56,
   "id": "26c3aa90-49f4-4adc-afe7-5107a67e9125",
   "metadata": {},
   "outputs": [
    {
     "data": {
      "text/plain": [
       "'24가 '"
      ]
     },
     "execution_count": 56,
     "metadata": {},
     "output_type": "execute_result"
    }
   ],
   "source": [
    "# 022-2\n",
    "license_plate[:4]"
   ]
  },
  {
   "cell_type": "code",
   "execution_count": 57,
   "id": "ba0fda8b-7542-44b3-9b17-27e8cbc7864a",
   "metadata": {},
   "outputs": [
    {
     "data": {
      "text/plain": [
       "'2가21'"
      ]
     },
     "execution_count": 57,
     "metadata": {},
     "output_type": "execute_result"
    }
   ],
   "source": [
    "# 022-3\n",
    "license_plate[::2]"
   ]
  },
  {
   "cell_type": "code",
   "execution_count": 58,
   "id": "585b0074-5949-43b7-b17d-9ac11dddc27d",
   "metadata": {},
   "outputs": [
    {
     "data": {
      "text/plain": [
       "'0122 가42'"
      ]
     },
     "execution_count": 58,
     "metadata": {},
     "output_type": "execute_result"
    }
   ],
   "source": [
    "# 022-4\n",
    "license_plate[::-1]"
   ]
  },
  {
   "cell_type": "code",
   "execution_count": 59,
   "id": "f2083134-abda-4f92-8370-68d094cce17b",
   "metadata": {},
   "outputs": [
    {
     "data": {
      "text/plain": [
       "'02 4'"
      ]
     },
     "execution_count": 59,
     "metadata": {},
     "output_type": "execute_result"
    }
   ],
   "source": [
    "# 022-5\n",
    "license_plate[::-2]"
   ]
  },
  {
   "cell_type": "code",
   "execution_count": 60,
   "id": "178f3f70-da62-4ad8-afda-d768ab5a7877",
   "metadata": {},
   "outputs": [
    {
     "data": {
      "text/plain": [
       "'0'"
      ]
     },
     "execution_count": 60,
     "metadata": {},
     "output_type": "execute_result"
    }
   ],
   "source": [
    "# 022-6\n",
    "license_plate[-1:]"
   ]
  },
  {
   "cell_type": "code",
   "execution_count": 61,
   "id": "52a28c32-84d3-46bd-99d3-49d492abc49c",
   "metadata": {},
   "outputs": [
    {
     "data": {
      "text/plain": [
       "'10'"
      ]
     },
     "execution_count": 61,
     "metadata": {},
     "output_type": "execute_result"
    }
   ],
   "source": [
    "# 022-7\n",
    "license_plate[-2:]"
   ]
  },
  {
   "cell_type": "code",
   "execution_count": 62,
   "id": "92261492-3302-4841-806d-4146ce5b5e41",
   "metadata": {},
   "outputs": [
    {
     "data": {
      "text/plain": [
       "'2210'"
      ]
     },
     "execution_count": 62,
     "metadata": {},
     "output_type": "execute_result"
    }
   ],
   "source": [
    "# 022-8\n",
    "license_plate[-4:]"
   ]
  },
  {
   "cell_type": "code",
   "execution_count": 63,
   "id": "bd710315-a14d-4b8b-9278-5702f8635fc4",
   "metadata": {},
   "outputs": [
    {
     "data": {
      "text/plain": [
       "'24가 221'"
      ]
     },
     "execution_count": 63,
     "metadata": {},
     "output_type": "execute_result"
    }
   ],
   "source": [
    "# 022-9\n",
    "license_plate[:-1]"
   ]
  },
  {
   "cell_type": "code",
   "execution_count": 64,
   "id": "4a00a05f-92ba-48ea-93ab-5f298040f892",
   "metadata": {},
   "outputs": [
    {
     "data": {
      "text/plain": [
       "'24가 2'"
      ]
     },
     "execution_count": 64,
     "metadata": {},
     "output_type": "execute_result"
    }
   ],
   "source": [
    "# 022-10\n",
    "license_plate[:-3]\n",
    "# 문자열 슬라이싱을 사용하여 뒤에서부터 3번째 인덱스까지의 부분 문자열을 추출"
   ]
  },
  {
   "cell_type": "code",
   "execution_count": 65,
   "id": "330b439c-24b3-4226-88f5-93239138fdbc",
   "metadata": {},
   "outputs": [
    {
     "data": {
      "text/plain": [
       "'2 가42'"
      ]
     },
     "execution_count": 65,
     "metadata": {},
     "output_type": "execute_result"
    }
   ],
   "source": [
    "# 022-11\n",
    "license_plate[-4::-1]\n",
    "# 역순으로 인덱싱, 뒤에서부터 4까지 슬라이싱"
   ]
  },
  {
   "cell_type": "code",
   "execution_count": null,
   "id": "32cef7e9-2cf1-4c69-8e7b-b44223f07ddc",
   "metadata": {},
   "outputs": [],
   "source": [
    "# 022-12\n",
    "license_plate[-4::-1]"
   ]
  }
 ],
 "metadata": {
  "kernelspec": {
   "display_name": "Python 3 (ipykernel)",
   "language": "python",
   "name": "python3"
  },
  "language_info": {
   "codemirror_mode": {
    "name": "ipython",
    "version": 3
   },
   "file_extension": ".py",
   "mimetype": "text/x-python",
   "name": "python",
   "nbconvert_exporter": "python",
   "pygments_lexer": "ipython3",
   "version": "3.11.6"
  }
 },
 "nbformat": 4,
 "nbformat_minor": 5
}
